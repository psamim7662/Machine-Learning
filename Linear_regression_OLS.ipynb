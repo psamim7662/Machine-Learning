{
 "cells": [
  {
   "cell_type": "code",
   "execution_count": 1,
   "id": "9b13e5e6",
   "metadata": {},
   "outputs": [],
   "source": [
    "# s1:calculate the mean of x and y\n",
    "# s2:calculate the error of x and y\n",
    "# s3:get the product\n",
    "# s4:get the summation of the product\n",
    "# s5:square the difference of the x\n",
    "# s6:get the sum of the squared difference\n",
    "# s7:divide output of step 4 by the output of step 6\n",
    "# s8:calculate 'a' using the value of 'b'"
   ]
  },
  {
   "cell_type": "code",
   "execution_count": 1,
   "id": "01745651-eccd-4ec3-a7d1-8cd38544e8b7",
   "metadata": {},
   "outputs": [],
   "source": [
    "import numpy as np\n",
    "import matplotlib.pyplot as plt\n",
    "import pandas as pd"
   ]
  },
  {
   "cell_type": "code",
   "execution_count": 6,
   "id": "6e6cb698-2243-4c95-87cb-e08c02ae5c0c",
   "metadata": {},
   "outputs": [],
   "source": [
    "data = pd.read_excel(\"Book1.xlsx\")"
   ]
  },
  {
   "cell_type": "code",
   "execution_count": 7,
   "id": "571cea0e-186f-4957-8dd5-ea1c85480b78",
   "metadata": {},
   "outputs": [
    {
     "data": {
      "text/html": [
       "<div>\n",
       "<style scoped>\n",
       "    .dataframe tbody tr th:only-of-type {\n",
       "        vertical-align: middle;\n",
       "    }\n",
       "\n",
       "    .dataframe tbody tr th {\n",
       "        vertical-align: top;\n",
       "    }\n",
       "\n",
       "    .dataframe thead th {\n",
       "        text-align: right;\n",
       "    }\n",
       "</style>\n",
       "<table border=\"1\" class=\"dataframe\">\n",
       "  <thead>\n",
       "    <tr style=\"text-align: right;\">\n",
       "      <th></th>\n",
       "      <th>x</th>\n",
       "      <th>y</th>\n",
       "    </tr>\n",
       "  </thead>\n",
       "  <tbody>\n",
       "    <tr>\n",
       "      <th>0</th>\n",
       "      <td>23</td>\n",
       "      <td>63</td>\n",
       "    </tr>\n",
       "    <tr>\n",
       "      <th>1</th>\n",
       "      <td>1</td>\n",
       "      <td>69</td>\n",
       "    </tr>\n",
       "    <tr>\n",
       "      <th>2</th>\n",
       "      <td>15</td>\n",
       "      <td>55</td>\n",
       "    </tr>\n",
       "    <tr>\n",
       "      <th>3</th>\n",
       "      <td>18</td>\n",
       "      <td>89</td>\n",
       "    </tr>\n",
       "    <tr>\n",
       "      <th>4</th>\n",
       "      <td>22</td>\n",
       "      <td>97</td>\n",
       "    </tr>\n",
       "    <tr>\n",
       "      <th>5</th>\n",
       "      <td>11</td>\n",
       "      <td>52</td>\n",
       "    </tr>\n",
       "    <tr>\n",
       "      <th>6</th>\n",
       "      <td>9</td>\n",
       "      <td>62</td>\n",
       "    </tr>\n",
       "    <tr>\n",
       "      <th>7</th>\n",
       "      <td>21</td>\n",
       "      <td>48</td>\n",
       "    </tr>\n",
       "    <tr>\n",
       "      <th>8</th>\n",
       "      <td>26</td>\n",
       "      <td>78</td>\n",
       "    </tr>\n",
       "    <tr>\n",
       "      <th>9</th>\n",
       "      <td>5</td>\n",
       "      <td>85</td>\n",
       "    </tr>\n",
       "    <tr>\n",
       "      <th>10</th>\n",
       "      <td>12</td>\n",
       "      <td>65</td>\n",
       "    </tr>\n",
       "    <tr>\n",
       "      <th>11</th>\n",
       "      <td>23</td>\n",
       "      <td>95</td>\n",
       "    </tr>\n",
       "    <tr>\n",
       "      <th>12</th>\n",
       "      <td>29</td>\n",
       "      <td>66</td>\n",
       "    </tr>\n",
       "    <tr>\n",
       "      <th>13</th>\n",
       "      <td>31</td>\n",
       "      <td>30</td>\n",
       "    </tr>\n",
       "    <tr>\n",
       "      <th>14</th>\n",
       "      <td>14</td>\n",
       "      <td>35</td>\n",
       "    </tr>\n",
       "  </tbody>\n",
       "</table>\n",
       "</div>"
      ],
      "text/plain": [
       "     x   y\n",
       "0   23  63\n",
       "1    1  69\n",
       "2   15  55\n",
       "3   18  89\n",
       "4   22  97\n",
       "5   11  52\n",
       "6    9  62\n",
       "7   21  48\n",
       "8   26  78\n",
       "9    5  85\n",
       "10  12  65\n",
       "11  23  95\n",
       "12  29  66\n",
       "13  31  30\n",
       "14  14  35"
      ]
     },
     "execution_count": 7,
     "metadata": {},
     "output_type": "execute_result"
    }
   ],
   "source": [
    "data"
   ]
  },
  {
   "cell_type": "code",
   "execution_count": 12,
   "id": "b2e14a6c-f659-4a7a-870c-045550dcea16",
   "metadata": {},
   "outputs": [
    {
     "data": {
      "text/plain": [
       "[<matplotlib.lines.Line2D at 0x26ae9518140>]"
      ]
     },
     "execution_count": 12,
     "metadata": {},
     "output_type": "execute_result"
    },
    {
     "data": {
      "image/png": "[encoded data removed]",
      "text/plain": [
       "<Figure size 640x480 with 1 Axes>"
      ]
     },
     "metadata": {},
     "output_type": "display_data"
    }
   ],
   "source": [
    "plt.plot(data.x,data.y,'o',color='g')"
   ]
  },
  {
   "cell_type": "code",
   "execution_count": 13,
   "id": "857180bb-7d95-4cd1-b5d7-a4b5114c501a",
   "metadata": {},
   "outputs": [],
   "source": [
    "x_mean = np.mean(data.x)"
   ]
  },
  {
   "cell_type": "code",
   "execution_count": 14,
   "id": "df50db10-de0e-4691-a4b0-712fcff81db6",
   "metadata": {},
   "outputs": [
    {
     "name": "stdout",
     "output_type": "stream",
     "text": [
      "17.333333333333332\n"
     ]
    }
   ],
   "source": [
    "print(x_mean)"
   ]
  },
  {
   "cell_type": "code",
   "execution_count": 15,
   "id": "952d9dba-108c-49d1-827c-fcf5fa9f90d3",
   "metadata": {},
   "outputs": [],
   "source": [
    "y_mean = np.mean(data.y)"
   ]
  },
  {
   "cell_type": "code",
   "execution_count": 16,
   "id": "e53cdf58-76b1-49fb-9362-3f63fa908af4",
   "metadata": {},
   "outputs": [
    {
     "name": "stdout",
     "output_type": "stream",
     "text": [
      "65.93333333333334\n"
     ]
    }
   ],
   "source": [
    "print(y_mean)"
   ]
  },
  {
   "cell_type": "code",
   "execution_count": 18,
   "id": "048a1f39-40ba-41d1-9964-07132b5ce2ff",
   "metadata": {},
   "outputs": [
    {
     "name": "stdout",
     "output_type": "stream",
     "text": [
      "-173.66666666666669\n"
     ]
    }
   ],
   "source": [
    "numerator = np.sum((data.x-x_mean)*(data.y-y_mean))\n",
    "print(numerator)"
   ]
  },
  {
   "cell_type": "code",
   "execution_count": 19,
   "id": "bf0ef6d8-555b-4643-a967-e9a8544ba2f8",
   "metadata": {},
   "outputs": [
    {
     "name": "stdout",
     "output_type": "stream",
     "text": [
      "1071.3333333333333\n"
     ]
    }
   ],
   "source": [
    "denominator = np.sum((data.x-x_mean)**2)\n",
    "print(denominator)"
   ]
  },
  {
   "cell_type": "code",
   "execution_count": 20,
   "id": "c4220dd7-87bb-4321-abf9-8b91b079e823",
   "metadata": {},
   "outputs": [
    {
     "name": "stdout",
     "output_type": "stream",
     "text": [
      "-0.16210329807093968\n"
     ]
    }
   ],
   "source": [
    "b = numerator/denominator\n",
    "print(b)"
   ]
  },
  {
   "cell_type": "code",
   "execution_count": 21,
   "id": "dbe61a6f-2c10-484d-b98c-d433adf8bda4",
   "metadata": {},
   "outputs": [
    {
     "name": "stdout",
     "output_type": "stream",
     "text": [
      "68.74312383322962\n"
     ]
    }
   ],
   "source": [
    "a = y_mean - (b * x_mean)\n",
    "print(a)"
   ]
  },
  {
   "cell_type": "code",
   "execution_count": 24,
   "id": "eaddb8ed-df93-436a-9762-d438ff9b0a8e",
   "metadata": {},
   "outputs": [],
   "source": [
    "def BestFitLine(x,a,b):\n",
    "    return (b*x + a)\n"
   ]
  },
  {
   "cell_type": "code",
   "execution_count": 25,
   "id": "2089ab54-7213-433e-80cd-418da8ba8c57",
   "metadata": {},
   "outputs": [],
   "source": [
    "yPred = []\n",
    "for i in range(len(data['x'])):\n",
    "    yPred.append(BestFitLine(data.x[i],a,b))\n",
    "    "
   ]
  },
  {
   "cell_type": "code",
   "execution_count": 26,
   "id": "f7894342-50f2-4bb8-8ff2-24e0febd0d4f",
   "metadata": {},
   "outputs": [
    {
     "data": {
      "image/png": "[encoded data removed]",
      "text/plain": [
       "<Figure size 640x480 with 1 Axes>"
      ]
     },
     "metadata": {},
     "output_type": "display_data"
    }
   ],
   "source": [
    "plt.plot(data['x'],yPred,'r')\n",
    "plt.scatter(data['x'],data['y'])\n",
    "plt.show()"
   ]
  },
  {
   "cell_type": "code",
   "execution_count": 27,
   "id": "dd006d17-42db-4439-9338-b569b5161161",
   "metadata": {},
   "outputs": [
    {
     "data": {
      "image/png": "[encoded data removed]",
      "text/plain": [
       "<Figure size 640x480 with 1 Axes>"
      ]
     },
     "metadata": {},
     "output_type": "display_data"
    }
   ],
   "source": [
    "plt.plot(data['x'],data['y'],'o')\n",
    "plt.show()"
   ]
  },
  {
   "cell_type": "code",
   "execution_count": null,
   "id": "cc4fe9ec-8988-401d-9843-ce494c5620a6",
   "metadata": {},
   "outputs": [],
   "source": []
  }
 ],
 "metadata": {
  "kernelspec": {
   "display_name": "Python 3 (ipykernel)",
   "language": "python",
   "name": "python3"
  },
  "language_info": {
   "codemirror_mode": {
    "name": "ipython",
    "version": 3
   },
   "file_extension": ".py",
   "mimetype": "text/x-python",
   "name": "python",
   "nbconvert_exporter": "python",
   "pygments_lexer": "ipython3",
   "version": "3.9.7"
  }
 },
 "nbformat": 4,
 "nbformat_minor": 5
}
