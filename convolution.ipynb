{
 "cells": [
  {
   "cell_type": "code",
   "execution_count": 7,
   "metadata": {},
   "outputs": [],
   "source": [
    "import cv2\n",
    "import numpy as np\n",
    "import matplotlib.pyplot as plt"
   ]
  },
  {
   "cell_type": "code",
   "execution_count": 8,
   "metadata": {},
   "outputs": [],
   "source": [
    "image=[\"airplane.tiff\",\"baboon.tiff\",\"Barbara.tif\",\"elaine.tiff\",\"fishingboat.tiff\",\"house.tiff\",\"lena.tiff\",\"peeper.tiff\",\"Goldhill.tif\",\"sailboat.tiff\",\"splash.tiff\",\"tank.tiff\"]\n",
    "n=len(image)"
   ]
  },
  {
   "cell_type": "code",
   "execution_count": 9,
   "metadata": {},
   "outputs": [
    {
     "ename": "AttributeError",
     "evalue": "'NoneType' object has no attribute 'copy'",
     "output_type": "error",
     "traceback": [
      "\u001b[1;31m---------------------------------------------------------------------------\u001b[0m",
      "\u001b[1;31mAttributeError\u001b[0m                            Traceback (most recent call last)",
      "Cell \u001b[1;32mIn[9], line 4\u001b[0m\n\u001b[0;32m      2\u001b[0m \u001b[38;5;28;01mfor\u001b[39;00m k \u001b[38;5;129;01min\u001b[39;00m image:\n\u001b[0;32m      3\u001b[0m     im\u001b[38;5;241m=\u001b[39mcv2\u001b[38;5;241m.\u001b[39mimread(k,\u001b[38;5;241m0\u001b[39m)\n\u001b[1;32m----> 4\u001b[0m     img\u001b[38;5;241m=\u001b[39m\u001b[43mim\u001b[49m\u001b[38;5;241;43m.\u001b[39;49m\u001b[43mcopy\u001b[49m()\n\u001b[0;32m      5\u001b[0m     (krow,kcol)\u001b[38;5;241m=\u001b[39mkernel\u001b[38;5;241m.\u001b[39mshape[:\u001b[38;5;241m2\u001b[39m]\n\u001b[0;32m      6\u001b[0m     (row,col)\u001b[38;5;241m=\u001b[39mimg\u001b[38;5;241m.\u001b[39mshape[:\u001b[38;5;241m2\u001b[39m]\n",
      "\u001b[1;31mAttributeError\u001b[0m: 'NoneType' object has no attribute 'copy'"
     ]
    }
   ],
   "source": [
    "kernel=np.array([[0,1,0],[1,-4,1],[0,1,0]])\n",
    "for k in image:\n",
    "    im=cv2.imread(k,0)\n",
    "    img=im.copy()\n",
    "    (krow,kcol)=kernel.shape[:2]\n",
    "    (row,col)=img.shape[:2]\n",
    "    for i in range(0,row-krow+1):\n",
    "        for j in range(0,col-kcol+1):\n",
    "            temp=(kernel*im[i:i+krow,j:j+kcol]).sum()\n",
    "            if(temp<0):\n",
    "                temp=0\n",
    "            if temp>255:\n",
    "                temp=255\n",
    "            im[i][j]=temp\n",
    "    flt_img = cv2.filter2D(src=img, ddepth=-1, kernel=kernel)\n",
    "    img=cv2.cvtColor(img,cv2.COLOR_BGR2RGB)\n",
    "    flt_img=cv2.cvtColor(flt_img,cv2.COLOR_BGR2RGB)\n",
    "    im=cv2.cvtColor(im,cv2.COLOR_BGR2RGB)\n",
    "    plt.figure(figsize=(10,10))\n",
    "    plt.subplot(2,3,1)\n",
    "    plt.title(\"Original\")\n",
    "    plt.imshow(img)\n",
    "    plt.subplot(2,3,2)\n",
    "    plt.title(\"Filtered from scratch\")\n",
    "    plt.imshow(im)\n",
    "    plt.subplot(2,3,3)\n",
    "    plt.title(\"Filtered with module\")\n",
    "    plt.imshow(flt_img)\n",
    "    plt.show()"
   ]
  }
 ],
 "metadata": {
  "kernelspec": {
   "display_name": "Python 3.10.6 64-bit (microsoft store)",
   "language": "python",
   "name": "python3"
  },
  "language_info": {
   "codemirror_mode": {
    "name": "ipython",
    "version": 3
   },
   "file_extension": ".py",
   "mimetype": "text/x-python",
   "name": "python",
   "nbconvert_exporter": "python",
   "pygments_lexer": "ipython3",
   "version": "3.10.8"
  },
  "orig_nbformat": 4,
  "vscode": {
   "interpreter": {
    "hash": "a8fce425ec04ce098889a7b456cfd25aeb22f7524c41fa0e52b84291bf9e447c"
   }
  }
 },
 "nbformat": 4,
 "nbformat_minor": 2
}
