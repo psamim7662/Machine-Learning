{
 "cells": [
  {
   "cell_type": "code",
   "execution_count": 12,
   "id": "82af1498-14d4-45d8-8e02-27fdf177a469",
   "metadata": {},
   "outputs": [],
   "source": [
    "import cv2 as cv\n",
    "import numpy as np\n",
    "import matplotlib.pyplot as plt\n",
    "import math\n",
    "import os"
   ]
  },
  {
   "cell_type": "code",
   "execution_count": 19,
   "id": "f07bb422-be2e-4013-8684-29a629513028",
   "metadata": {},
   "outputs": [],
   "source": [
    "video = cv.VideoCapture(\"CoverImages/vtest.avi\")"
   ]
  },
  {
   "cell_type": "code",
   "execution_count": 14,
   "id": "f6082711-0f8b-40de-ad22-d15a388def85",
   "metadata": {},
   "outputs": [],
   "source": [
    "i = 1\n",
    "while True:\n",
    "    ret,frame = video.read()\n",
    "\n",
    "    if ret == False:\n",
    "        break\n",
    "\n",
    "    gframe = cv.cvtColor(frame,cv.COLOR_BGR2GRAY)\n",
    "    cv.imwrite(\"./vout/picture\" + str(i) + \".png\", frame)\n",
    "    cv.imwrite(\"./grayvout/picture\" + str(i) + \".png\", gframe)\n",
    "    i = i+1\n",
    "    \n",
    "    cv.imshow(\" Video is playing\", frame)\n",
    "    key = cv.waitKey(1)\n",
    "    if key == ord('q'):\n",
    "        break\n",
    "    if key == ord('m'):\n",
    "        cv.waitKey(1)\n",
    "    \n",
    "video.release()\n",
    "cv.destroyAllWindows()"
   ]
  },
  {
   "cell_type": "code",
   "execution_count": 15,
   "id": "a2a821b7-c61f-47fe-b138-650a71e87580",
   "metadata": {},
   "outputs": [],
   "source": [
    "def calEntropy(image):\n",
    "    row, col = image.shape\n",
    "    n = row*col\n",
    "    pixel1 = list(image.ravel())\n",
    "    pixel2 = set(pixel1)\n",
    "\n",
    "    fre = {}\n",
    "    for key in pixel2:\n",
    "        fre[key] = pixel1.count(key)/n\n",
    "        \n",
    "    l = list(fre.keys())\n",
    "\n",
    "\n",
    "    entropy = 0\n",
    "    for x in l:\n",
    "        entropy = entropy + fre[x]*math.log(fre[x],2)\n",
    "    entropy = (-1)*entropy\n",
    "    return entropy"
   ]
  },
  {
   "cell_type": "code",
   "execution_count": 16,
   "id": "ed5a16ac-d7fd-4825-b2b0-171859de5b98",
   "metadata": {},
   "outputs": [],
   "source": [
    "def getKey(fname):\n",
    "    fin = 7\n",
    "    lin = fname.index('.')\n",
    "    result = fname[fin:lin]\n",
    "    return int(result)"
   ]
  },
  {
   "cell_type": "code",
   "execution_count": 17,
   "id": "467a5b4c-d4bf-49a7-a55c-d785450d490b",
   "metadata": {},
   "outputs": [],
   "source": [
    "def sortFile(files):\n",
    "    files.sort(key = getKey)"
   ]
  },
  {
   "cell_type": "code",
   "execution_count": 18,
   "id": "230ee20e-0352-478c-a062-f63fc3424242",
   "metadata": {},
   "outputs": [
    {
     "ename": "FileNotFoundError",
     "evalue": "[WinError 3] The system cannot find the path specified: 'opencv_prog/grayvout'",
     "output_type": "error",
     "traceback": [
      "\u001b[1;31m---------------------------------------------------------------------------\u001b[0m",
      "\u001b[1;31mFileNotFoundError\u001b[0m                         Traceback (most recent call last)",
      "Cell \u001b[1;32mIn[18], line 1\u001b[0m\n\u001b[1;32m----> 1\u001b[0m files \u001b[38;5;241m=\u001b[39m \u001b[43mos\u001b[49m\u001b[38;5;241;43m.\u001b[39;49m\u001b[43mlistdir\u001b[49m\u001b[43m(\u001b[49m\u001b[38;5;124;43m'\u001b[39;49m\u001b[38;5;124;43mopencv_prog/grayvout\u001b[39;49m\u001b[38;5;124;43m'\u001b[39;49m\u001b[43m)\u001b[49m\n\u001b[0;32m      2\u001b[0m \u001b[38;5;28mprint\u001b[39m(files[:\u001b[38;5;241m20\u001b[39m])\n",
      "\u001b[1;31mFileNotFoundError\u001b[0m: [WinError 3] The system cannot find the path specified: 'opencv_prog/grayvout'"
     ]
    }
   ],
   "source": [
    "files = os.listdir('opencv_prog/grayvout')\n",
    "print(files[:20])"
   ]
  },
  {
   "cell_type": "code",
   "execution_count": null,
   "id": "94bcb010-47a3-47a2-8a78-5ee967eca01e",
   "metadata": {},
   "outputs": [],
   "source": [
    "sortFile(files)\n",
    "print(files[:20])"
   ]
  },
  {
   "cell_type": "code",
   "execution_count": null,
   "id": "c1f71dd4-00c0-455f-811b-dd65b7522511",
   "metadata": {},
   "outputs": [],
   "source": [
    "listed = []\n",
    "for f in files:\n",
    "    image = cv.imread('./grayvout/' + f, 0)\n",
    "    error = calEntropy(image)\n",
    "    listed.append(error)"
   ]
  },
  {
   "cell_type": "code",
   "execution_count": null,
   "id": "95eafd4d-93ee-4500-b149-205421906239",
   "metadata": {},
   "outputs": [],
   "source": [
    "x = [i for i in range(len(listed))]\n",
    "plt.plot(x,listed,color = 'r', label = 'Entropy')\n",
    "plt.legend()\n",
    "plt.show()"
   ]
  },
  {
   "cell_type": "code",
   "execution_count": null,
   "id": "1a51264f-d2d7-4714-b1f1-5b55e2fe5f16",
   "metadata": {},
   "outputs": [],
   "source": []
  }
 ],
 "metadata": {
  "kernelspec": {
   "display_name": "Python 3 (ipykernel)",
   "language": "python",
   "name": "python3"
  },
  "language_info": {
   "codemirror_mode": {
    "name": "ipython",
    "version": 3
   },
   "file_extension": ".py",
   "mimetype": "text/x-python",
   "name": "python",
   "nbconvert_exporter": "python",
   "pygments_lexer": "ipython3",
   "version": "3.12.1"
  }
 },
 "nbformat": 4,
 "nbformat_minor": 5
}
